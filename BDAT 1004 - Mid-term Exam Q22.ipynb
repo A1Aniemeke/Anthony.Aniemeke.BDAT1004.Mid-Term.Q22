{
 "cells": [
  {
   "cell_type": "markdown",
   "id": "eb878bde-2014-4b25-8611-1e269cf5a943",
   "metadata": {},
   "source": [
    "# BDAT 1004 - Mid-term Exam\n",
    "Question 22"
   ]
  },
  {
   "cell_type": "code",
   "execution_count": 16,
   "id": "c59dc1e9-f084-4a12-bc85-f3d3c0d053b4",
   "metadata": {},
   "outputs": [
    {
     "name": "stdout",
     "output_type": "stream",
     "text": [
      "   id\n",
      "0   2\n",
      "1   4\n"
     ]
    }
   ],
   "source": [
    "import sqlite3\n",
    "import pandas as pd\n",
    "\n",
    "# Creation of a new SQLite database in memory \n",
    "conn = sqlite3.connect(':memory:')\n",
    "cur = conn.cursor()\n",
    "\n",
    "# Creation of the Weather table\n",
    "cur.execute('''\n",
    "CREATE TABLE Weather (\n",
    "    id INTEGER PRIMARY KEY,\n",
    "    recordDate DATE,\n",
    "    temperature INTEGER\n",
    ")\n",
    "''')\n",
    "\n",
    "# Insert data \n",
    "weather_data = [\n",
    "    (1, '2015-01-01', 10),\n",
    "    (2, '2015-01-02', 25),\n",
    "    (3, '2015-01-03', 20),\n",
    "    (4, '2015-01-04', 30)\n",
    "]\n",
    "\n",
    "cur.executemany('INSERT INTO Weather (id, recordDate, temperature) VALUES (?, ?, ?)', weather_data)\n",
    "conn.commit()\n",
    "\n",
    "# SQL query \n",
    "query = '''\n",
    "SELECT w1.id\n",
    "FROM Weather w1\n",
    "JOIN Weather w2 ON DATE(w1.recordDate) = DATE(w2.recordDate, '+1 day')\n",
    "WHERE w1.temperature > w2.temperature\n",
    "'''\n",
    "\n",
    "# Query Execution\n",
    "result = cur.execute(query).fetchall()\n",
    "result_df = pd.DataFrame(result, columns=['id'])\n",
    "\n",
    "\n",
    "print(result_df)\n",
    "\n",
    "# Close the connection\n",
    "conn.close()\n"
   ]
  },
  {
   "cell_type": "code",
   "execution_count": null,
   "id": "bb48ec16-3d28-4bb0-af13-982251fea945",
   "metadata": {},
   "outputs": [],
   "source": []
  }
 ],
 "metadata": {
  "kernelspec": {
   "display_name": "Python 3 (ipykernel)",
   "language": "python",
   "name": "python3"
  },
  "language_info": {
   "codemirror_mode": {
    "name": "ipython",
    "version": 3
   },
   "file_extension": ".py",
   "mimetype": "text/x-python",
   "name": "python",
   "nbconvert_exporter": "python",
   "pygments_lexer": "ipython3",
   "version": "3.12.4"
  }
 },
 "nbformat": 4,
 "nbformat_minor": 5
}
